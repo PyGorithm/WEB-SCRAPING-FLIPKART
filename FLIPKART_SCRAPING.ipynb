{
 "cells": [
  {
   "cell_type": "code",
   "execution_count": 7,
   "id": "8233e5ba",
   "metadata": {},
   "outputs": [
    {
     "name": "stdout",
     "output_type": "stream",
     "text": [
      "Requirement already satisfied: requests in /Library/Frameworks/Python.framework/Versions/3.11/lib/python3.11/site-packages (2.28.2)\r\n",
      "Requirement already satisfied: charset-normalizer<4,>=2 in /Library/Frameworks/Python.framework/Versions/3.11/lib/python3.11/site-packages (from requests) (3.1.0)\r\n",
      "Requirement already satisfied: idna<4,>=2.5 in /Library/Frameworks/Python.framework/Versions/3.11/lib/python3.11/site-packages (from requests) (3.4)\r\n",
      "Requirement already satisfied: urllib3<1.27,>=1.21.1 in /Library/Frameworks/Python.framework/Versions/3.11/lib/python3.11/site-packages (from requests) (1.26.15)\r\n",
      "Requirement already satisfied: certifi>=2017.4.17 in /Library/Frameworks/Python.framework/Versions/3.11/lib/python3.11/site-packages (from requests) (2023.11.17)\r\n"
     ]
    }
   ],
   "source": [
    "! pip install requests"
   ]
  },
  {
   "cell_type": "code",
   "execution_count": 8,
   "id": "4c78c18f",
   "metadata": {},
   "outputs": [
    {
     "name": "stdout",
     "output_type": "stream",
     "text": [
      "Requirement already satisfied: bs4 in /Library/Frameworks/Python.framework/Versions/3.11/lib/python3.11/site-packages (0.0.1)\r\n",
      "Requirement already satisfied: beautifulsoup4 in /Library/Frameworks/Python.framework/Versions/3.11/lib/python3.11/site-packages (from bs4) (4.11.2)\r\n",
      "Requirement already satisfied: soupsieve>1.2 in /Library/Frameworks/Python.framework/Versions/3.11/lib/python3.11/site-packages (from beautifulsoup4->bs4) (2.4)\r\n"
     ]
    }
   ],
   "source": [
    "! pip install bs4"
   ]
  },
  {
   "cell_type": "code",
   "execution_count": 9,
   "id": "36bf10e0",
   "metadata": {},
   "outputs": [],
   "source": [
    "import requests\n",
    "from bs4 import BeautifulSoup"
   ]
  },
  {
   "cell_type": "code",
   "execution_count": 10,
   "id": "a1b3c957",
   "metadata": {},
   "outputs": [
    {
     "name": "stdout",
     "output_type": "stream",
     "text": [
      "https://www.flipkart.com/apple-iphone-15-pro-white-titanium-128-gb/p/itm786eaa7ec159e?pid=MOBGTAGPFGSCNHJF&lid=LSTMOBGTAGPFGSCNHJFXSQFMF&marketplace=FLIPKART&q=iphone+15+pro&store=tyy%2F4io&srno=s_1_1&otracker=AS_QueryStore_OrganicAutoSuggest_1_4_na_na_na&otracker1=AS_QueryStore_OrganicAutoSuggest_1_4_na_na_na&fm=organic&iid=0ac2c85f-efa0-4d56-bf83-1cf075a007fd.MOBGTAGPFGSCNHJF.SEARCH&ppt=browse&ppn=browse&ssid=6iyz423asw0000001705221858064&qH=c9de95b3b911a866\n"
     ]
    }
   ],
   "source": [
    "url = input()"
   ]
  },
  {
   "cell_type": "code",
   "execution_count": 11,
   "id": "5afacb58",
   "metadata": {},
   "outputs": [],
   "source": [
    "response = requests.get(url)"
   ]
  },
  {
   "cell_type": "code",
   "execution_count": 12,
   "id": "ff45dd0d",
   "metadata": {},
   "outputs": [],
   "source": [
    "if response.status_code == 200:\n",
    "    soup = BeautifulSoup(response.text, 'html.parser')\n",
    "\n",
    "else:\n",
    "    st.write('Failed to retrieve the webpage. Status code:', response.status_code)"
   ]
  },
  {
   "cell_type": "code",
   "execution_count": 13,
   "id": "5b763b14",
   "metadata": {},
   "outputs": [
    {
     "name": "stdout",
     "output_type": "stream",
     "text": [
      "Product Name :   APPLE iPhone 15 Pro (White Titanium, 128 GB)\n"
     ]
    }
   ],
   "source": [
    "product_name_tag = soup.find('span', class_='B_NuCI')\n",
    "product_name = product_name_tag.text.strip()\n",
    "print(\"Product Name :  \",product_name)"
   ]
  },
  {
   "cell_type": "code",
   "execution_count": 14,
   "id": "05c29257",
   "metadata": {},
   "outputs": [
    {
     "name": "stdout",
     "output_type": "stream",
     "text": [
      "Product Price :   130990 ₹\n"
     ]
    }
   ],
   "source": [
    "product_price_tag = soup.find('div', class_='_30jeq3 _16Jk6d')\n",
    "product_price_str = product_price_tag.text.strip()\n",
    "product_price = int(product_price_str.replace('₹','').replace(',',''))\n",
    "print(\"Product Price :  \",product_price,'₹')"
   ]
  },
  {
   "cell_type": "code",
   "execution_count": 15,
   "id": "f31f8840",
   "metadata": {},
   "outputs": [
    {
     "name": "stdout",
     "output_type": "stream",
     "text": [
      "Product Rating :   4.7\n"
     ]
    }
   ],
   "source": [
    "product_rating_tag = soup.find('span', class_='_1lRcqv')\n",
    "product_rating = product_rating_tag.text.strip()\n",
    "print(\"Product Rating :  \",product_rating)"
   ]
  },
  {
   "cell_type": "code",
   "execution_count": 19,
   "id": "0f938bca",
   "metadata": {},
   "outputs": [
    {
     "name": "stdout",
     "output_type": "stream",
     "text": [
      "437 Ratings & 38 Reviews\n"
     ]
    }
   ],
   "source": [
    "product_rt_rv_tag = soup.find('span', class_='_2_R_DZ')\n",
    "print(product_rt_rv_tag.text.strip())"
   ]
  },
  {
   "cell_type": "code",
   "execution_count": 17,
   "id": "d3a3d6ba",
   "metadata": {},
   "outputs": [
    {
     "name": "stdout",
     "output_type": "stream",
     "text": [
      "['437', '38']\n"
     ]
    }
   ],
   "source": [
    "product_rt_rv = product_rt_rv_tag.text.strip().replace(' Reviews','').split(' Ratings\\xa0&\\xa0')\n",
    "print(product_rt_rv)"
   ]
  },
  {
   "cell_type": "code",
   "execution_count": 20,
   "id": "aedbdf58",
   "metadata": {},
   "outputs": [
    {
     "name": "stdout",
     "output_type": "stream",
     "text": [
      "No. of Rating :   437\n"
     ]
    }
   ],
   "source": [
    "print(\"No. of Rating :  \",product_rt_rv[0])"
   ]
  },
  {
   "cell_type": "code",
   "execution_count": 21,
   "id": "e065a224",
   "metadata": {},
   "outputs": [
    {
     "name": "stdout",
     "output_type": "stream",
     "text": [
      "No. of Reviews :   38\n"
     ]
    }
   ],
   "source": [
    "print(\"No. of Reviews :  \",product_rt_rv[1])"
   ]
  },
  {
   "cell_type": "code",
   "execution_count": 22,
   "id": "0bb77e4d",
   "metadata": {},
   "outputs": [
    {
     "name": "stdout",
     "output_type": "stream",
     "text": [
      "Bank Offer10% off on ICICI Bank Credit Card and EMI Transactions, up to ₹750, on orders of ₹5,000 and aboveT&C\n",
      "Bank Offer10% off on Bank of Baroda Credit Card and EMI Transactions, up to ₹750 on orders of ₹5,000 and aboveT&C\n",
      "Bank OfferExtra ₹750 off on Bank of Baroda Credit Card and EMI Txns on Net Cart Value of ₹24,990 and aboveT&C\n",
      "Special PriceGet extra ₹3910 off (price inclusive of cashback/coupon)T&C\n"
     ]
    }
   ],
   "source": [
    "offer_elements = soup.find_all('li', class_='_16eBzU')\n",
    "for i in offer_elements :\n",
    "    print(i.text.strip())"
   ]
  },
  {
   "cell_type": "code",
   "execution_count": 23,
   "id": "40601d39",
   "metadata": {},
   "outputs": [
    {
     "name": "stdout",
     "output_type": "stream",
     "text": [
      "Offer 1: Bank Offer10% off on ICICI Bank Credit Card and EMI Transactions, up to ₹750, on orders of ₹5,000 and aboveT&C\n",
      "Offer 2: Bank Offer10% off on Bank of Baroda Credit Card and EMI Transactions, up to ₹750 on orders of ₹5,000 and aboveT&C\n",
      "Offer 3: Bank OfferExtra ₹750 off on Bank of Baroda Credit Card and EMI Txns on Net Cart Value of ₹24,990 and aboveT&C\n",
      "Offer 4: Special PriceGet extra ₹3910 off (price inclusive of cashback/coupon)T&C\n"
     ]
    }
   ],
   "source": [
    "offers = []\n",
    "    \n",
    "if offer_elements:\n",
    "    for offer in offer_elements:\n",
    "        offer_text = offer.text.strip()\n",
    "        offers.append(offer_text)\n",
    "            \n",
    "    for index, offer in enumerate(offers, start=1):\n",
    "        print(f'Offer {index}: {offer}')"
   ]
  },
  {
   "cell_type": "code",
   "execution_count": 24,
   "id": "e93853b2",
   "metadata": {},
   "outputs": [
    {
     "name": "stdout",
     "output_type": "stream",
     "text": [
      "Product's Description :  iPhone 15 Pro, a titanium marvel, boasts an aerospace-grade build, making it the lightest Pro model ever. The A17 Pro Chip marks a historic leap in Apple GPUs, delivering unparalleled graphics performance and immersive gaming experiences. The camera system shines with a 48MP Main camera, offering remarkable detail and automatic portrait enhancements. Convenience is key with the Action button for quick tasks and Focus filters. Plus, it's USB 3 compatible, revolutionizing data transfer speeds. This iPhone even shares its charging cable with your Mac or iPad. Embrace innovation, cut cable clutter, and elevate your mobile experience with the iPhone 15 Pro.\n"
     ]
    }
   ],
   "source": [
    "product_descript_tag = soup.find('div', class_='_1mXcCf')\n",
    "product_descript = product_descript_tag.text.strip()\n",
    "print(\"Product's Description : \",product_descript)"
   ]
  },
  {
   "cell_type": "code",
   "execution_count": 25,
   "id": "1c72c9ea",
   "metadata": {},
   "outputs": [
    {
     "name": "stdout",
     "output_type": "stream",
     "text": [
      "Specifications : \n",
      "\n",
      "#.  In The Box  :  Handset, USB C Charge Cable (1m), Documentation\n",
      "\n",
      "#.  Model Number  :  MTUW3HN/A\n",
      "\n",
      "#.  Model Name  :  iPhone 15 Pro\n",
      "\n",
      "#.  Color  :  White Titanium\n",
      "\n",
      "#.  Browse Type  :  Smartphones\n",
      "\n",
      "#.  SIM Type  :  Dual Sim(Nano + eSIM)\n",
      "\n",
      "#.  Hybrid Sim Slot  :  No\n",
      "\n",
      "#.  Touchscreen  :  Yes\n",
      "\n",
      "#.  OTG Compatible  :  No\n",
      "\n",
      "#.  Sound Enhancements  :  Built-in Stereo Speaker\n",
      "\n",
      "#.  Display Size  :  15.49 cm (6.1 inch)\n",
      "\n",
      "#.  Resolution  :  2556 x 1179 Pixels\n",
      "\n",
      "#.  Resolution Type  :  Super Retina XDR Display\n",
      "\n",
      "#.  GPU  :  6 Core\n",
      "\n",
      "#.  Display Type  :  All Screen OLED Display\n",
      "\n",
      "#.  Other Display Features  :  Dynamic Island, Always-On Display, ProMotion Technology with Adaptive Refresh Rates Upto 120Hz, HDR Display, True Tone, Wide Colour (P3), Haptic Touch, Contrast Ratio: 2,000,000:1 (Typical), 1,000 nits Max Brightness (Typical); 1,600 nits Peak Brightness (HDR); 2,000 nits Peak Brightness (Outdoor), Fingerprint-Resistant Oleophobic Coating, Support for Display of Multiple Languages and Characters Simultaneously\n",
      "\n",
      "#.  Operating System  :  iOS 17\n",
      "\n",
      "#.  Processor Brand  :  Apple\n",
      "\n",
      "#.  Processor Type  :  A17 Pro Chip, 6 Core Processor\n",
      "\n",
      "#.  Processor Core  :  Hexa Core\n",
      "\n",
      "#.  Operating Frequency  :  5G NR (Bands n1, n2, n3, n5, n7, n8, n12, n20, n25, n26, n28, n30, n38, n40, n41, n48, n53, n66, n70, n77, n78, n79), 4G FDD LTE (B1, B2, B3, B4, B5, B7, B8, B12, B13, B17, B18, B19, B20, B25, B26, B28, B30, B32, B66), 4G TD LTE (B34, B38, B39, B40, B41, B42, B46, B48, B53), 3G UMTS/HSPA+/DC-HSDPA (850, 900, 1700/2100, 1900, 2100 MHz), 2G GSM/EDGE (850, 900, 1800, 1900 MHz)\n",
      "\n",
      "#.  Internal Storage  :  128 GB\n",
      "\n",
      "#.  Primary Camera Available  :  Yes\n",
      "\n",
      "#.  Primary Camera  :  48MP + 12MP + 12MP\n",
      "\n",
      "#.  Primary Camera Features  :  Triple Camera Setup: 48MP Main Camera (Focal Length: 24mm, f/1.78 Aperture, Second Generation Sensor Shift Optical Image Stabilisation, 100% Focus Pixels, Support for Super High Resolution Photos (24MP and 48MP)) + 12MP Ultra Wide Camera (Focal Length: 13mm, f/2.2 Aperture, FOV: 120 Degree, 100% Focus Pixels + 12MP 2x Telephoto (Enabled by Quad Pixel Sensor) (Focal Length: 48mm, f/1.78 Aperture, Second Generation Sensor Shift Optical Image Stabilisation, 100% Focus Pixels) + 12MP 3x Telephoto (Focal Length: 77mm, f/2.8 Aperture, Optical Image Stabilisation, 3x Optical Zoom In, 2x Optical Zoom Out, 6x Optical Zoom Range, Camera Feature: Customisable Default Lens (Main), Sapphire Crystal Lens Cover, Adaptive True Tone Flash, Photonic Engine, Deep Fusion, Smart HDR 5, Next Generation Portraits with Focus and Depth Control, Portrait Lighting with Six Effects, Night Mode, Night Mode Portraits Enabled by LiDAR Scanner, Panorama (Upto 63MP), Photographic Styles, Macro Photography, Apple ProRAW\n",
      "\n",
      "#.  Optical Zoom  :  Yes\n",
      "\n",
      "#.  Secondary Camera Available  :  Yes\n",
      "\n",
      "#.  Secondary Camera  :  12MP Front Camera\n",
      "\n",
      "#.  Secondary Camera Features  :  12MP TrueDepth Camera: (f/1.9 Aperture), Camera Feature: Autofocus with Focus Pixels, Photonic Engine, Deep Fusion, Smart HDR 5, Next Generation Portraits with Focus and Depth Control, Portrait Lighting with Six Effects, Animoji and Memoji, Night Mode, Photographic Styles, Apple ProRAW, Wide Colour Capture for Photos and Live Photos, Lens Correction, Auto Image Stabilisation, Burst Mode, 4K Video Recording at 24 fps, 25 fps, 30 fps or 60 fps, 1080p HD Video Recording at 25 fps, 30 fps or 60 fps, Cinematic Mode Upto 4K HDR at 30 fps, HDR Video Recording with Dolby Vision Upto 4K at 60 fps, ProRes Video Recording Upto 4K at 60 fps with External Recording, Log Video Recording, Academy Color Encoding System, Slo Mo Video Support for 1080p at 120 fps, Timelapse Video with Stabilisation, Night Mode Timelapse, QuickTake Video, Cinematic Video Stabilisation (4K, 1080p and 720p)\n",
      "\n",
      "#.  Flash  :  Rear: True Tone Flash | Front: Retina Flash\n",
      "\n",
      "#.  HD Recording  :  Yes\n",
      "\n",
      "#.  Full HD Recording  :  Yes\n",
      "\n",
      "#.  Video Recording  :  Yes\n",
      "\n",
      "#.  Video Recording Resolution  :  Rear Camera: 4K (at 24 fps/ 25 fps/ 30 fps/ 60 fps), 2.8K (at 60 fps), 1080P (at 120 fps/60 fps/30 fps/ 25 fps), 720P (at 30 fps) | Front Camera: 4K (at 24 fps/ 25 fps/ 30 fps/ 60 fps), 1080P (at 120 fps/60 fps/30 fps/25 fps)\n",
      "\n",
      "#.  Digital Zoom  :  15X\n",
      "\n",
      "#.  Frame Rate  :  240 fps, 120 fps, 60 fps, 30 fps, 25 fps, 24 fps\n",
      "\n",
      "#.  Dual Camera Lens  :  Primary Camera\n",
      "\n",
      "#.  Video Call Support  :  Yes\n",
      "\n",
      "#.  Speaker Phone  :  Yes\n",
      "\n",
      "#.  Network Type  :  5G, 4G VOLTE, 4G, 3G, 2G\n",
      "\n",
      "#.  Supported Networks  :  5G, 4G VoLTE, 4G LTE, UMTS, GSM\n",
      "\n",
      "#.  Internet Connectivity  :  5G, 4G, 3G, Wi-Fi, EDGE\n",
      "\n",
      "#.  Bluetooth Support  :  Yes\n",
      "\n",
      "#.  Bluetooth Version  :  v5.3\n",
      "\n",
      "#.  Wi-Fi  :  Yes\n",
      "\n",
      "#.  Wi-Fi Version  :  Wi-Fi 6E (802.11ax)\n",
      "\n",
      "#.  NFC  :  Yes\n",
      "\n",
      "#.  Map Support  :  Google Maps\n",
      "\n",
      "#.  GPS Support  :  Yes\n",
      "\n",
      "#.  Smartphone  :  Yes\n",
      "\n",
      "#.  SIM Size  :  Nano Sim + eSIM\n",
      "\n",
      "#.  Graphics PPI  :  460 PPI\n",
      "\n",
      "#.  Sensors  :  Face ID, LiDAR Scanner, Barometer, High Dynamic Range Gyro, High-G Accelerometer, Proximity Sensor, Dual Ambient Light Sensors\n",
      "\n",
      "#.  Supported Languages  :  English (Australia, UK, US), Chinese (Simplified, Traditional, Traditional - Hong Kong), French (Canada, France), German, Italian, Japanese, Korean, Spanish (Latin America, Spain), Arabic, Bulgarian, Catalan, Croatian, Czech, Danish, Dutch, Finnish, Greek, Hebrew, Hindi, Hungarian, Indonesian, Kazakh, Malay, Norwegian, Polish, Portuguese (Brazil, Portugal), Romanian, Russian, Slovak, Swedish, Thai, Turkish, Ukrainian, Vietnamese\n",
      "\n",
      "#.  Browser  :  Safari\n",
      "\n",
      "#.  Other Features  :  Titanium Design, Ceramic Shield Front, Textured Matt Glass Back, Rated IP68 (Maximum Depth of 6 Metres Upto 30 Minutes) Under IEC standard 60529, New 16 Core Neural Engine, Enabled by TrueDepth Camera for Facial Recognition, Apple Pay, Emergency SOS via Satellite, Crash Detection, 5G (sub 6 GHz) with 4x4 MIMO, Gigabit LTE with 4x4 MIMO and LAA, 2x2 MIMO, Second Generation Ultra Wideband Chip, Thread Networking Technology, NFC with Reader Mode, Express Cards with Power Reserve, FaceTime Video Calling Over Wi Fi or a Mobile Network, FaceTime HD (1080p) Video Calling Over 5G or Wi Fi, Share Experiences Like Movies, TV, Music and Other Apps in a FaceTime Call With SharePlay, Screen Sharing, Portrait Mode in FaceTime Video, Spatial Audio, Voice Isolation and Wide Spectrum Microphone Modes, Optical Zoom with Rear Facing Camera, FaceTime Audio, Voice Over LTE (VoLTE), Wi Fi Calling, Spatial Audio Playback, User Configurable Maximum Volume Limit, Supported Formats Include HEVC, H.264 and ProRes, HDR with Dolby Vision, HDR10 and HLG, Upto 4K HDR AirPlay for Mirroring, Photos and Video Out to Apple TV (2nd Generation or Later) or AirPlay Enabled Smart TV, Video Mirroring and Video Out Support: Upto 4K HDR Through Native DisplayPort Output Over USB-C or USB-C Digital AV Adapter (Model A2119, Adapter Sold Separately), USB C Connector with Support For: Charging, DisplayPort, USB 3 (Upto 10Gb/s), Built-in Rechargeable Lithium ion Battery, MagSafe Wireless Charging Upto 15W, Qi wireless Charging Upto 7.5W, Fast Charge Capable: Upto 50% Charge in around 30 Minutes, With 20W Adapter or Higher (Available Separately), MagSafe: Magnet Array, Alignment Magnet, Accessory Identification NFC, Magnetometer, Accessibility: VoiceOver, Zoom, Magnifier, Voice Control, Switch Control, AssistiveTouch, RTT and Textphone Support, Closed Captions, Live Captions, Personal Voice, Live Speech, Type to Siri, Spoken Content, Rating for Hearing Aids: M3, T4, System Requirements: Apple ID (Required For Some Features), Internet Access, Syncing to a Mac or PC Requires: macOS Catalina 10.15 or Later Using the Finder, macOS High Sierra 10.13 to macOS Mojave 10.14.6 Using iTunes 12.9 or Later, Windows 10 or Later Using iTunes 12.12.10 or Later (Free Download From itunes.com/uk)\n",
      "\n",
      "#.  Important Apps  :  App Store, Books, Calculator, Calendar, Camera, Clock, Compass, Contacts, FaceTime, Files, Find My, Health, Home, iTunes Store, Magnifier, Mail, Maps, Measure, Messages, Music, News, Notes, Phone, Photos, Podcasts, Reminders, Safari, Settings, Shortcuts, Siri, Stocks, Tips, Translate, TV, Voice Memos, Wallet, Watch, Weather\n",
      "\n",
      "#.  GPS Type  :  GPS, GLONASS, GALILEO, QZSS, BEIDOU, NAVIC, Digital Compass, iBeacon Micro Location\n",
      "\n",
      "#.  Audio Formats  :  AAC, MP3, Apple Lossless, FLAC, Dolby Digital, Dolby Digital Plus, Dolby Atmos\n",
      "\n",
      "#.  Video Formats  :  HEVC, H.264, ProRes\n",
      "\n",
      "#.  Width  :  70.6 mm\n",
      "\n",
      "#.  Height  :  146.6 mm\n",
      "\n",
      "#.  Depth  :  8.25 mm\n",
      "\n",
      "#.  Weight  :  187 g\n",
      "\n",
      "#.  Warranty Summary  :  1 Year Warranty for Phone and 6 Months Warranty for In-Box Accessories\n",
      "\n",
      "#.  Domestic Warranty  :  1 Year\n",
      "\n"
     ]
    }
   ],
   "source": [
    "product_spct_t_tag = soup.find_all('td', class_='_1hKmbr')\n",
    "product_spct_d_tag = soup.find_all('td', class_='URwL2w')\n",
    "\n",
    "print('Specifications : ')\n",
    "print(\"\")\n",
    "\n",
    "if len(product_spct_t_tag) == len(product_spct_d_tag) :\n",
    "    for i in range(0,len(product_spct_d_tag)) :\n",
    "        product_spct_t = product_spct_t_tag[i].text.strip()\n",
    "        product_spct_d = product_spct_d_tag[i].text.strip()\n",
    "        print('#. ',product_spct_t,' : ',product_spct_d)\n",
    "        print(\"\")"
   ]
  },
  {
   "cell_type": "code",
   "execution_count": 27,
   "id": "256407da",
   "metadata": {},
   "outputs": [
    {
     "name": "stdout",
     "output_type": "stream",
     "text": [
      "https://www.flipkart.com/cellecor-10000-mah-power-bank-12-w-fast-charging/p/itm1641ad4c1150e?pid=PWBGRXQ6DV7BNZJY&lid=LSTPWBGRXQ6DV7BNZJYT1XGBY&marketplace=FLIPKART&store=tyy%2F4mr%2Ffu6&srno=b_1_1&otracker=pp_reco_You%2Bmight%2Bbe%2Binterested%2Bin_1_34.dealCard.OMU_cid%3AS_F_N_tyy_4mr_fu6__d_50-100__NONE_ALL%3Bnid%3Atyy_4mr_fu6_%3Bet%3AS%3Beid%3Atyy_4mr_fu6_%3Bmp%3AF%3Bct%3Ad%3Bat%3ADEFAULT%3B&otracker1=pp_reco_PINNED_productRecommendation%2FAugmentSelling_You%2Bmight%2Bbe%2Binterested%2Bin_BANNER_HORIZONTAL_dealCard_cc_1_NA_view-all&fm=organic&iid=en_KcXAQNroviGn6muBBDPlba8H9iZ0wSQiiAIV0kb45gjm2HnQQcv7CJ7FBWR90rbNurfSLMhwYc3Ye2VNC4Knew%3D%3D&ppt=pp&ppn=pp&ssid=kfuidgain40000001705231933436\n",
      "\n",
      "\n",
      "\n",
      "Product Name :   Cellecor 10000 mAh Power Bank (12 W, Fast Charging)  (Black, Lithium Polymer)\n",
      "\n",
      "Product Price :   752 ₹\n",
      "\n",
      "Product Rating :   3.6\n",
      "\n",
      "No. of Rating :   209\n",
      "\n",
      "No. of Reviews :   12\n",
      "\n",
      "Offer 1: Bank Offer10% off on ICICI Bank Credit Card and EMI Transactions, up to ₹1500, on orders of ₹5,000 and aboveT&C\n",
      "Offer 2: Bank Offer10% off on Bank of Baroda Credit Card and EMI Transactions, up to ₹1500 on orders of ₹5000 and aboveT&C\n",
      "Offer 3: Bank OfferExtra ₹750 off on ICICI Bank Credit Card and EMI Txns on a Net Cart Value of ₹24,990 and aboveT&C\n",
      "Offer 4: Special PriceGet extra 21% off (price inclusive of cashback/coupon)T&C\n",
      "\n",
      "\n",
      "Product's Description :  Keep your devices well-charged at all times with this CELLECOR Power Bank.\n",
      "\n",
      "Specifications : \n",
      "\n",
      "#.  Sales Package  :  Power Bank, Micro USB Cable, Warranty Card\n",
      "\n",
      "#.  Model Name  :  CLPB-60PLUS-10000 mAH\n",
      "\n",
      "#.  Suitable Device  :  Laptop, Mobile\n",
      "\n",
      "#.  Number of Output Ports  :  1\n",
      "\n",
      "#.  Charging Cable Included  :  Yes\n",
      "\n",
      "#.  Other Features  :  DUAL INPUT - This power bank is easily chargeable via Type-C or micro USB port., POWERFUL 10000mAH BATTERY - Its thoughtful design with an aluminium alloy case not only makes it look stylish but also keeps it safe from collisions and impact., 12W RAPID CHARGING - Fast charging technology that uses a higher wattage charger and compatible cable to deliver more power to a device, such as a smartphone or tablet., SHORT CIRCUIT PROTECTION - Short circuit protection is a safety mechanism designed to prevent damage or harm that may occur when an electrical circuit is overloaded or short-circuited., POWER INDICATOR LEDs - Tells the remaining power of your Power Bank., DUAL OUTPUT - Its improved design helps you charge two devices simultaneously.\n",
      "\n",
      "#.  Width  :  170 mm\n",
      "\n",
      "#.  Height  :  90 mm\n",
      "\n",
      "#.  Weight  :  220 g\n",
      "\n",
      "#.  Warranty Summary  :  6 Months Manufacturer Warranty\n",
      "\n",
      "#.  Warranty Service Type  :  6 Months Manufacturer Warranty\n",
      "\n",
      "#.  Covered in Warranty  :  Manufacturing Defects\n",
      "\n",
      "#.  Not Covered in Warranty  :  Physical Damage\n",
      "\n"
     ]
    }
   ],
   "source": [
    "\n",
    "import requests\n",
    "from bs4 import BeautifulSoup\n",
    "\n",
    "url = input()\n",
    "\n",
    "print(\"\")\n",
    "print(\"\")\n",
    "print(\"\")\n",
    "\n",
    "response = requests.get(url)\n",
    "\n",
    "if response.status_code == 200:\n",
    "    soup = BeautifulSoup(response.text, 'html.parser')\n",
    "    \n",
    "    product_name_tag = soup.find('span', class_='B_NuCI')\n",
    "    product_name = product_name_tag.text.strip()\n",
    "    print(\"Product Name :  \",product_name)\n",
    "    print(\"\")\n",
    "    \n",
    "    product_price_tag = soup.find('div', class_='_30jeq3 _16Jk6d')\n",
    "    product_price_str = product_price_tag.text.strip()\n",
    "    product_price = int(product_price_str.replace('₹','').replace(',',''))\n",
    "    print(\"Product Price :  \",product_price,'₹')\n",
    "    print(\"\")\n",
    "    \n",
    "    product_rating_tag = soup.find('span', class_='_1lRcqv')\n",
    "    product_rating = product_rating_tag.text.strip()\n",
    "    print(\"Product Rating :  \",product_rating)\n",
    "    print(\"\")\n",
    "    \n",
    "    product_rt_rv_tag = soup.find('span', class_='_2_R_DZ')\n",
    "    product_rt_rv = product_rt_rv_tag.text.strip().replace(' Reviews','').split(' Ratings\\xa0&\\xa0')\n",
    "\n",
    "    print(\"No. of Rating :  \",product_rt_rv[0])\n",
    "    print(\"\")\n",
    "\n",
    "    print(\"No. of Reviews :  \",product_rt_rv[1])\n",
    "    print(\"\")\n",
    "    \n",
    "    offer_elements = soup.find_all('li', class_='_16eBzU')\n",
    "    \n",
    "    offers = []\n",
    "    \n",
    "    if offer_elements:\n",
    "        for offer in offer_elements:\n",
    "            offer_text = offer.text.strip()\n",
    "            offers.append(offer_text)\n",
    "            \n",
    "        for index, offer in enumerate(offers, start=1):\n",
    "            print(f'Offer {index}: {offer}')\n",
    "            \n",
    "        print(\"\")\n",
    "        print(\"\")\n",
    "            \n",
    "    product_descript_tag = soup.find('div', class_='_1mXcCf')\n",
    "    product_descript = product_descript_tag.text.strip()\n",
    "    print(\"Product's Description : \",product_descript)\n",
    "    print(\"\")\n",
    "    \n",
    "    product_spct_t_tag = soup.find_all('td', class_='_1hKmbr')\n",
    "    product_spct_d_tag = soup.find_all('td', class_='URwL2w')\n",
    "\n",
    "    print('Specifications : ')\n",
    "    print(\"\")\n",
    "\n",
    "    if len(product_spct_t_tag) == len(product_spct_d_tag) :\n",
    "        for i in range(0,len(product_spct_d_tag)) :\n",
    "            product_spct_t = product_spct_t_tag[i].text.strip()\n",
    "            product_spct_d = product_spct_d_tag[i].text.strip()\n",
    "            print('#. ',product_spct_t,' : ',product_spct_d)\n",
    "            print(\"\")\n",
    "\n",
    "else:\n",
    "    st.write('Failed to retrieve the webpage. Status code:', response.status_code)\n",
    "    \n"
   ]
  },
  {
   "cell_type": "code",
   "execution_count": null,
   "id": "c3f225ff",
   "metadata": {},
   "outputs": [],
   "source": []
  }
 ],
 "metadata": {
  "kernelspec": {
   "display_name": "Python 3 (ipykernel)",
   "language": "python",
   "name": "python3"
  },
  "language_info": {
   "codemirror_mode": {
    "name": "ipython",
    "version": 3
   },
   "file_extension": ".py",
   "mimetype": "text/x-python",
   "name": "python",
   "nbconvert_exporter": "python",
   "pygments_lexer": "ipython3",
   "version": "3.11.2"
  }
 },
 "nbformat": 4,
 "nbformat_minor": 5
}
